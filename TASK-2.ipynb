{
 "cells": [
  {
   "cell_type": "markdown",
   "id": "862b61b9",
   "metadata": {},
   "source": [
    "# **TASK-2**\n",
    "\n",
    "**Develop the ML model(s) to predict the credit risk(low or high) for a given applicant.** \n",
    "\n",
    "**Business Constraint:** Note that it is worse to state an applicant as a low credit risk when they are actually a high risk, than it is to state an applicant to be a high credit risk when they aren’t.\n",
    "\n",
    "**Provide the answers for the below points:**\n",
    "\n",
    "1. Explain your intuition behind the features used for modeling.\n",
    "2. Are you creating new derived features? If yes explain the intuition behind them.\n",
    "3. Are there missing values? If yes how you plan to handle it.\n",
    "4. How categorical features are handled for modeling.\n",
    "5. Describe the features correlation using correlation matrix. Tell us about few correlated feature & share your understanding on why they are correlated.\n",
    "6. Do you plan to drop the correlated feature? If yes then how.\n",
    "7. Which ML algorithm you plan to use for modeling.\n",
    "8. **Train two (at least) ML models** to predict the credit risk & provide the confusion matrix for each model.\n",
    "9. How you will select the hyperparameters for models trained in above step.\n",
    "10. Which metric(s) you will choose to select between the set of models.\n",
    "11. Explain how you will export the trained models & deploy it for prediction in production."
   ]
  },
  {
   "cell_type": "code",
   "execution_count": 177,
   "id": "a15117f1",
   "metadata": {},
   "outputs": [],
   "source": [
    "import numpy as np\n",
    "import pandas as pd\n",
    "\n",
    "import seaborn as sns\n",
    "import matplotlib.pyplot as plt\n",
    "plt.style.use('dark_background')\n",
    "\n",
    "import warnings\n",
    "warnings.filterwarnings('ignore')\n",
    "\n",
    "from sklearn.preprocessing import StandardScaler\n",
    "from sklearn.model_selection import train_test_split\n",
    "\n",
    "from sklearn.linear_model import LogisticRegression\n",
    "\n",
    "from sklearn.metrics import accuracy_score, confusion_matrix, classification_report"
   ]
  },
  {
   "cell_type": "code",
   "execution_count": 178,
   "id": "56c3672f",
   "metadata": {},
   "outputs": [],
   "source": [
    "# fetch file which we download in task-1\n",
    "dataset = pd.read_csv(r\"C:\\Users\\lenovo\\OneDrive\\Desktop\\Reunion\\Pre_processed_data\\dataframe.csv\")"
   ]
  },
  {
   "cell_type": "code",
   "execution_count": 179,
   "id": "8e406030",
   "metadata": {},
   "outputs": [
    {
     "data": {
      "text/html": [
       "<div>\n",
       "<style scoped>\n",
       "    .dataframe tbody tr th:only-of-type {\n",
       "        vertical-align: middle;\n",
       "    }\n",
       "\n",
       "    .dataframe tbody tr th {\n",
       "        vertical-align: top;\n",
       "    }\n",
       "\n",
       "    .dataframe thead th {\n",
       "        text-align: right;\n",
       "    }\n",
       "</style>\n",
       "<table border=\"1\" class=\"dataframe\">\n",
       "  <thead>\n",
       "    <tr style=\"text-align: right;\">\n",
       "      <th></th>\n",
       "      <th>Primary_applicant_age_in_years</th>\n",
       "      <th>Gender</th>\n",
       "      <th>Number_of_dependents</th>\n",
       "      <th>Years_at_current_residence</th>\n",
       "      <th>Has_been_employed_for_at_least</th>\n",
       "      <th>Has_been_employed_for_at_most</th>\n",
       "      <th>Foreign_worker</th>\n",
       "      <th>Savings_account_balance</th>\n",
       "      <th>Balance_in_existing_bank_account_(lower_limit_of_bucket)</th>\n",
       "      <th>Balance_in_existing_bank_account_(upper_limit_of_bucket)</th>\n",
       "      <th>...</th>\n",
       "      <th>EMP_STATUS_unskilled - resident</th>\n",
       "      <th>P_building society savings agreement/life insurance</th>\n",
       "      <th>P_car or other</th>\n",
       "      <th>P_none</th>\n",
       "      <th>P_real estate</th>\n",
       "      <th>LOAN_HIST_all loans at this bank paid back duly</th>\n",
       "      <th>LOAN_HIST_critical/pending loans at other banks</th>\n",
       "      <th>LOAN_HIST_delay in paying off loans in the past</th>\n",
       "      <th>LOAN_HIST_existing loans paid back duly till now</th>\n",
       "      <th>LOAN_HIST_no loans taken/all loans paid back duly</th>\n",
       "    </tr>\n",
       "  </thead>\n",
       "  <tbody>\n",
       "    <tr>\n",
       "      <th>0</th>\n",
       "      <td>67</td>\n",
       "      <td>1</td>\n",
       "      <td>1</td>\n",
       "      <td>4</td>\n",
       "      <td>4</td>\n",
       "      <td>0</td>\n",
       "      <td>1</td>\n",
       "      <td>0</td>\n",
       "      <td>0</td>\n",
       "      <td>1</td>\n",
       "      <td>...</td>\n",
       "      <td>0</td>\n",
       "      <td>0</td>\n",
       "      <td>0</td>\n",
       "      <td>0</td>\n",
       "      <td>1</td>\n",
       "      <td>0</td>\n",
       "      <td>1</td>\n",
       "      <td>0</td>\n",
       "      <td>0</td>\n",
       "      <td>0</td>\n",
       "    </tr>\n",
       "    <tr>\n",
       "      <th>1</th>\n",
       "      <td>22</td>\n",
       "      <td>0</td>\n",
       "      <td>1</td>\n",
       "      <td>2</td>\n",
       "      <td>2</td>\n",
       "      <td>3</td>\n",
       "      <td>1</td>\n",
       "      <td>1</td>\n",
       "      <td>1</td>\n",
       "      <td>2</td>\n",
       "      <td>...</td>\n",
       "      <td>0</td>\n",
       "      <td>0</td>\n",
       "      <td>0</td>\n",
       "      <td>0</td>\n",
       "      <td>1</td>\n",
       "      <td>0</td>\n",
       "      <td>0</td>\n",
       "      <td>0</td>\n",
       "      <td>1</td>\n",
       "      <td>0</td>\n",
       "    </tr>\n",
       "    <tr>\n",
       "      <th>2</th>\n",
       "      <td>49</td>\n",
       "      <td>1</td>\n",
       "      <td>2</td>\n",
       "      <td>3</td>\n",
       "      <td>3</td>\n",
       "      <td>4</td>\n",
       "      <td>1</td>\n",
       "      <td>1</td>\n",
       "      <td>0</td>\n",
       "      <td>0</td>\n",
       "      <td>...</td>\n",
       "      <td>1</td>\n",
       "      <td>0</td>\n",
       "      <td>0</td>\n",
       "      <td>0</td>\n",
       "      <td>1</td>\n",
       "      <td>0</td>\n",
       "      <td>1</td>\n",
       "      <td>0</td>\n",
       "      <td>0</td>\n",
       "      <td>0</td>\n",
       "    </tr>\n",
       "    <tr>\n",
       "      <th>3</th>\n",
       "      <td>45</td>\n",
       "      <td>1</td>\n",
       "      <td>2</td>\n",
       "      <td>4</td>\n",
       "      <td>3</td>\n",
       "      <td>4</td>\n",
       "      <td>1</td>\n",
       "      <td>1</td>\n",
       "      <td>0</td>\n",
       "      <td>1</td>\n",
       "      <td>...</td>\n",
       "      <td>0</td>\n",
       "      <td>1</td>\n",
       "      <td>0</td>\n",
       "      <td>0</td>\n",
       "      <td>0</td>\n",
       "      <td>0</td>\n",
       "      <td>0</td>\n",
       "      <td>0</td>\n",
       "      <td>1</td>\n",
       "      <td>0</td>\n",
       "    </tr>\n",
       "    <tr>\n",
       "      <th>4</th>\n",
       "      <td>53</td>\n",
       "      <td>1</td>\n",
       "      <td>2</td>\n",
       "      <td>4</td>\n",
       "      <td>2</td>\n",
       "      <td>3</td>\n",
       "      <td>1</td>\n",
       "      <td>1</td>\n",
       "      <td>0</td>\n",
       "      <td>1</td>\n",
       "      <td>...</td>\n",
       "      <td>0</td>\n",
       "      <td>0</td>\n",
       "      <td>0</td>\n",
       "      <td>1</td>\n",
       "      <td>0</td>\n",
       "      <td>0</td>\n",
       "      <td>0</td>\n",
       "      <td>1</td>\n",
       "      <td>0</td>\n",
       "      <td>0</td>\n",
       "    </tr>\n",
       "  </tbody>\n",
       "</table>\n",
       "<p>5 rows × 45 columns</p>\n",
       "</div>"
      ],
      "text/plain": [
       "   Primary_applicant_age_in_years  Gender  Number_of_dependents  \\\n",
       "0                              67       1                     1   \n",
       "1                              22       0                     1   \n",
       "2                              49       1                     2   \n",
       "3                              45       1                     2   \n",
       "4                              53       1                     2   \n",
       "\n",
       "   Years_at_current_residence  Has_been_employed_for_at_least  \\\n",
       "0                           4                               4   \n",
       "1                           2                               2   \n",
       "2                           3                               3   \n",
       "3                           4                               3   \n",
       "4                           4                               2   \n",
       "\n",
       "   Has_been_employed_for_at_most  Foreign_worker  Savings_account_balance  \\\n",
       "0                              0               1                        0   \n",
       "1                              3               1                        1   \n",
       "2                              4               1                        1   \n",
       "3                              4               1                        1   \n",
       "4                              3               1                        1   \n",
       "\n",
       "   Balance_in_existing_bank_account_(lower_limit_of_bucket)  \\\n",
       "0                                                  0          \n",
       "1                                                  1          \n",
       "2                                                  0          \n",
       "3                                                  0          \n",
       "4                                                  0          \n",
       "\n",
       "   Balance_in_existing_bank_account_(upper_limit_of_bucket)  ...  \\\n",
       "0                                                  1         ...   \n",
       "1                                                  2         ...   \n",
       "2                                                  0         ...   \n",
       "3                                                  1         ...   \n",
       "4                                                  1         ...   \n",
       "\n",
       "   EMP_STATUS_unskilled - resident  \\\n",
       "0                                0   \n",
       "1                                0   \n",
       "2                                1   \n",
       "3                                0   \n",
       "4                                0   \n",
       "\n",
       "   P_building society savings agreement/life insurance  P_car or other  \\\n",
       "0                                                  0                 0   \n",
       "1                                                  0                 0   \n",
       "2                                                  0                 0   \n",
       "3                                                  1                 0   \n",
       "4                                                  0                 0   \n",
       "\n",
       "   P_none  P_real estate  LOAN_HIST_all loans at this bank paid back duly  \\\n",
       "0       0              1                                                0   \n",
       "1       0              1                                                0   \n",
       "2       0              1                                                0   \n",
       "3       0              0                                                0   \n",
       "4       1              0                                                0   \n",
       "\n",
       "   LOAN_HIST_critical/pending loans at other banks  \\\n",
       "0                                                1   \n",
       "1                                                0   \n",
       "2                                                1   \n",
       "3                                                0   \n",
       "4                                                0   \n",
       "\n",
       "   LOAN_HIST_delay in paying off loans in the past  \\\n",
       "0                                                0   \n",
       "1                                                0   \n",
       "2                                                0   \n",
       "3                                                0   \n",
       "4                                                1   \n",
       "\n",
       "   LOAN_HIST_existing loans paid back duly till now  \\\n",
       "0                                                 0   \n",
       "1                                                 1   \n",
       "2                                                 0   \n",
       "3                                                 1   \n",
       "4                                                 0   \n",
       "\n",
       "   LOAN_HIST_no loans taken/all loans paid back duly  \n",
       "0                                                  0  \n",
       "1                                                  0  \n",
       "2                                                  0  \n",
       "3                                                  0  \n",
       "4                                                  0  \n",
       "\n",
       "[5 rows x 45 columns]"
      ]
     },
     "execution_count": 179,
     "metadata": {},
     "output_type": "execute_result"
    }
   ],
   "source": [
    "dataset.head()"
   ]
  },
  {
   "cell_type": "code",
   "execution_count": 180,
   "id": "f8b625ba",
   "metadata": {},
   "outputs": [
    {
     "data": {
      "text/plain": [
       "45000"
      ]
     },
     "execution_count": 180,
     "metadata": {},
     "output_type": "execute_result"
    }
   ],
   "source": [
    "dataset.size"
   ]
  },
  {
   "cell_type": "code",
   "execution_count": 181,
   "id": "32558464",
   "metadata": {},
   "outputs": [
    {
     "data": {
      "text/plain": [
       "Index(['Primary_applicant_age_in_years', 'Gender', 'Number_of_dependents',\n",
       "       'Years_at_current_residence', 'Has_been_employed_for_at_least',\n",
       "       'Has_been_employed_for_at_most', 'Foreign_worker',\n",
       "       'Savings_account_balance',\n",
       "       'Balance_in_existing_bank_account_(lower_limit_of_bucket)',\n",
       "       'Balance_in_existing_bank_account_(upper_limit_of_bucket)',\n",
       "       'Months_loan_taken_for', 'Principal_loan_amount',\n",
       "       'EMI_rate_in_percentage_of_disposable_income', 'Has_coapplicant',\n",
       "       'Has_guarantor', 'Number_of_existing_loans_at_this_bank',\n",
       "       'high_risk_applicant', 'H_for free', 'H_own', 'H_rent', 'P_FF&E',\n",
       "       'P_business', 'P_career development', 'P_domestic appliances',\n",
       "       'P_education', 'P_electronic equipment', 'P_new vehicle',\n",
       "       'P_repair costs', 'P_used vehicle', 'OTHR_EMI_PLANS_bank',\n",
       "       'OTHR_EMI_PLANS_none', 'OTHR_EMI_PLANS_stores',\n",
       "       'EMP_STATUS_management / self-employed / highly qualified employee / officer',\n",
       "       'EMP_STATUS_skilled employee / official',\n",
       "       'EMP_STATUS_unemployed / unskilled - non-resident',\n",
       "       'EMP_STATUS_unskilled - resident',\n",
       "       'P_building society savings agreement/life insurance', 'P_car or other',\n",
       "       'P_none', 'P_real estate',\n",
       "       'LOAN_HIST_all loans at this bank paid back duly',\n",
       "       'LOAN_HIST_critical/pending loans at other banks',\n",
       "       'LOAN_HIST_delay in paying off loans in the past',\n",
       "       'LOAN_HIST_existing loans paid back duly till now',\n",
       "       'LOAN_HIST_no loans taken/all loans paid back duly'],\n",
       "      dtype='object')"
      ]
     },
     "execution_count": 181,
     "metadata": {},
     "output_type": "execute_result"
    }
   ],
   "source": [
    "dataset.columns"
   ]
  },
  {
   "cell_type": "code",
   "execution_count": 182,
   "id": "2ebce7ae",
   "metadata": {},
   "outputs": [
    {
     "data": {
      "text/plain": [
       "Primary_applicant_age_in_years                                                 0\n",
       "Gender                                                                         0\n",
       "Number_of_dependents                                                           0\n",
       "Years_at_current_residence                                                     0\n",
       "Has_been_employed_for_at_least                                                 0\n",
       "Has_been_employed_for_at_most                                                  0\n",
       "Foreign_worker                                                                 0\n",
       "Savings_account_balance                                                        0\n",
       "Balance_in_existing_bank_account_(lower_limit_of_bucket)                       0\n",
       "Balance_in_existing_bank_account_(upper_limit_of_bucket)                       0\n",
       "Months_loan_taken_for                                                          0\n",
       "Principal_loan_amount                                                          0\n",
       "EMI_rate_in_percentage_of_disposable_income                                    0\n",
       "Has_coapplicant                                                                0\n",
       "Has_guarantor                                                                  0\n",
       "Number_of_existing_loans_at_this_bank                                          0\n",
       "high_risk_applicant                                                            0\n",
       "H_for free                                                                     0\n",
       "H_own                                                                          0\n",
       "H_rent                                                                         0\n",
       "P_FF&E                                                                         0\n",
       "P_business                                                                     0\n",
       "P_career development                                                           0\n",
       "P_domestic appliances                                                          0\n",
       "P_education                                                                    0\n",
       "P_electronic equipment                                                         0\n",
       "P_new vehicle                                                                  0\n",
       "P_repair costs                                                                 0\n",
       "P_used vehicle                                                                 0\n",
       "OTHR_EMI_PLANS_bank                                                            0\n",
       "OTHR_EMI_PLANS_none                                                            0\n",
       "OTHR_EMI_PLANS_stores                                                          0\n",
       "EMP_STATUS_management / self-employed / highly qualified employee / officer    0\n",
       "EMP_STATUS_skilled employee / official                                         0\n",
       "EMP_STATUS_unemployed / unskilled - non-resident                               0\n",
       "EMP_STATUS_unskilled - resident                                                0\n",
       "P_building society savings agreement/life insurance                            0\n",
       "P_car or other                                                                 0\n",
       "P_none                                                                         0\n",
       "P_real estate                                                                  0\n",
       "LOAN_HIST_all loans at this bank paid back duly                                0\n",
       "LOAN_HIST_critical/pending loans at other banks                                0\n",
       "LOAN_HIST_delay in paying off loans in the past                                0\n",
       "LOAN_HIST_existing loans paid back duly till now                               0\n",
       "LOAN_HIST_no loans taken/all loans paid back duly                              0\n",
       "dtype: int64"
      ]
     },
     "execution_count": 182,
     "metadata": {},
     "output_type": "execute_result"
    }
   ],
   "source": [
    "dataset.isnull().sum()"
   ]
  },
  {
   "cell_type": "markdown",
   "id": "cb81f6e7",
   "metadata": {},
   "source": [
    "# Conclusion\n",
    "Here we had seen that there isn't any null value and object value in our pre-processed data. thus we are ready with our model building part but before model building part we have to do data normalization on our whole dataset."
   ]
  },
  {
   "cell_type": "markdown",
   "id": "924b73b2",
   "metadata": {},
   "source": [
    "# --------------------------------------------------------------------------------------------------------------"
   ]
  },
  {
   "cell_type": "markdown",
   "id": "5bd3fd2c",
   "metadata": {},
   "source": [
    "## 1.1 Data Normalization (scaling)"
   ]
  },
  {
   "cell_type": "code",
   "execution_count": 183,
   "id": "70ba1c96",
   "metadata": {},
   "outputs": [],
   "source": [
    "# Split df into X and y\n",
    "X = dataset.drop('high_risk_applicant', axis=1).copy()\n",
    "y = dataset['high_risk_applicant'].copy()"
   ]
  },
  {
   "cell_type": "code",
   "execution_count": 184,
   "id": "14d14cbb",
   "metadata": {},
   "outputs": [],
   "source": [
    "# Scale X with a standard scaler\n",
    "scaler = StandardScaler()\n",
    "scaler.fit(X)\n",
    "X = pd.DataFrame(scaler.transform(X), columns=X.columns)"
   ]
  },
  {
   "cell_type": "code",
   "execution_count": 185,
   "id": "bb34182b",
   "metadata": {},
   "outputs": [
    {
     "data": {
      "text/html": [
       "<div>\n",
       "<style scoped>\n",
       "    .dataframe tbody tr th:only-of-type {\n",
       "        vertical-align: middle;\n",
       "    }\n",
       "\n",
       "    .dataframe tbody tr th {\n",
       "        vertical-align: top;\n",
       "    }\n",
       "\n",
       "    .dataframe thead th {\n",
       "        text-align: right;\n",
       "    }\n",
       "</style>\n",
       "<table border=\"1\" class=\"dataframe\">\n",
       "  <thead>\n",
       "    <tr style=\"text-align: right;\">\n",
       "      <th></th>\n",
       "      <th>Primary_applicant_age_in_years</th>\n",
       "      <th>Gender</th>\n",
       "      <th>Number_of_dependents</th>\n",
       "      <th>Years_at_current_residence</th>\n",
       "      <th>Has_been_employed_for_at_least</th>\n",
       "      <th>Has_been_employed_for_at_most</th>\n",
       "      <th>Foreign_worker</th>\n",
       "      <th>Savings_account_balance</th>\n",
       "      <th>Balance_in_existing_bank_account_(lower_limit_of_bucket)</th>\n",
       "      <th>Balance_in_existing_bank_account_(upper_limit_of_bucket)</th>\n",
       "      <th>...</th>\n",
       "      <th>EMP_STATUS_unskilled - resident</th>\n",
       "      <th>P_building society savings agreement/life insurance</th>\n",
       "      <th>P_car or other</th>\n",
       "      <th>P_none</th>\n",
       "      <th>P_real estate</th>\n",
       "      <th>LOAN_HIST_all loans at this bank paid back duly</th>\n",
       "      <th>LOAN_HIST_critical/pending loans at other banks</th>\n",
       "      <th>LOAN_HIST_delay in paying off loans in the past</th>\n",
       "      <th>LOAN_HIST_existing loans paid back duly till now</th>\n",
       "      <th>LOAN_HIST_no loans taken/all loans paid back duly</th>\n",
       "    </tr>\n",
       "  </thead>\n",
       "  <tbody>\n",
       "    <tr>\n",
       "      <th>0</th>\n",
       "      <td>2.766456</td>\n",
       "      <td>0.670280</td>\n",
       "      <td>-0.428290</td>\n",
       "      <td>1.046987</td>\n",
       "      <td>1.338078</td>\n",
       "      <td>-1.464049</td>\n",
       "      <td>0.196014</td>\n",
       "      <td>-1.231393</td>\n",
       "      <td>-0.653831</td>\n",
       "      <td>0.226218</td>\n",
       "      <td>...</td>\n",
       "      <td>-0.5</td>\n",
       "      <td>-0.549621</td>\n",
       "      <td>-0.704987</td>\n",
       "      <td>-0.426653</td>\n",
       "      <td>1.595650</td>\n",
       "      <td>-0.226991</td>\n",
       "      <td>1.553374</td>\n",
       "      <td>-0.31063</td>\n",
       "      <td>-1.061913</td>\n",
       "      <td>-0.204124</td>\n",
       "    </tr>\n",
       "    <tr>\n",
       "      <th>1</th>\n",
       "      <td>-1.191404</td>\n",
       "      <td>-1.491914</td>\n",
       "      <td>-0.428290</td>\n",
       "      <td>-0.765977</td>\n",
       "      <td>-0.317959</td>\n",
       "      <td>0.608696</td>\n",
       "      <td>0.196014</td>\n",
       "      <td>-0.196609</td>\n",
       "      <td>1.001437</td>\n",
       "      <td>1.429505</td>\n",
       "      <td>...</td>\n",
       "      <td>-0.5</td>\n",
       "      <td>-0.549621</td>\n",
       "      <td>-0.704987</td>\n",
       "      <td>-0.426653</td>\n",
       "      <td>1.595650</td>\n",
       "      <td>-0.226991</td>\n",
       "      <td>-0.643760</td>\n",
       "      <td>-0.31063</td>\n",
       "      <td>0.941697</td>\n",
       "      <td>-0.204124</td>\n",
       "    </tr>\n",
       "    <tr>\n",
       "      <th>2</th>\n",
       "      <td>1.183312</td>\n",
       "      <td>0.670280</td>\n",
       "      <td>2.334869</td>\n",
       "      <td>0.140505</td>\n",
       "      <td>0.510060</td>\n",
       "      <td>1.299611</td>\n",
       "      <td>0.196014</td>\n",
       "      <td>-0.196609</td>\n",
       "      <td>-0.653831</td>\n",
       "      <td>-0.977069</td>\n",
       "      <td>...</td>\n",
       "      <td>2.0</td>\n",
       "      <td>-0.549621</td>\n",
       "      <td>-0.704987</td>\n",
       "      <td>-0.426653</td>\n",
       "      <td>1.595650</td>\n",
       "      <td>-0.226991</td>\n",
       "      <td>1.553374</td>\n",
       "      <td>-0.31063</td>\n",
       "      <td>-1.061913</td>\n",
       "      <td>-0.204124</td>\n",
       "    </tr>\n",
       "    <tr>\n",
       "      <th>3</th>\n",
       "      <td>0.831502</td>\n",
       "      <td>0.670280</td>\n",
       "      <td>2.334869</td>\n",
       "      <td>1.046987</td>\n",
       "      <td>0.510060</td>\n",
       "      <td>1.299611</td>\n",
       "      <td>0.196014</td>\n",
       "      <td>-0.196609</td>\n",
       "      <td>-0.653831</td>\n",
       "      <td>0.226218</td>\n",
       "      <td>...</td>\n",
       "      <td>-0.5</td>\n",
       "      <td>1.819435</td>\n",
       "      <td>-0.704987</td>\n",
       "      <td>-0.426653</td>\n",
       "      <td>-0.626704</td>\n",
       "      <td>-0.226991</td>\n",
       "      <td>-0.643760</td>\n",
       "      <td>-0.31063</td>\n",
       "      <td>0.941697</td>\n",
       "      <td>-0.204124</td>\n",
       "    </tr>\n",
       "    <tr>\n",
       "      <th>4</th>\n",
       "      <td>1.535122</td>\n",
       "      <td>0.670280</td>\n",
       "      <td>2.334869</td>\n",
       "      <td>1.046987</td>\n",
       "      <td>-0.317959</td>\n",
       "      <td>0.608696</td>\n",
       "      <td>0.196014</td>\n",
       "      <td>-0.196609</td>\n",
       "      <td>-0.653831</td>\n",
       "      <td>0.226218</td>\n",
       "      <td>...</td>\n",
       "      <td>-0.5</td>\n",
       "      <td>-0.549621</td>\n",
       "      <td>-0.704987</td>\n",
       "      <td>2.343823</td>\n",
       "      <td>-0.626704</td>\n",
       "      <td>-0.226991</td>\n",
       "      <td>-0.643760</td>\n",
       "      <td>3.21926</td>\n",
       "      <td>-1.061913</td>\n",
       "      <td>-0.204124</td>\n",
       "    </tr>\n",
       "  </tbody>\n",
       "</table>\n",
       "<p>5 rows × 44 columns</p>\n",
       "</div>"
      ],
      "text/plain": [
       "   Primary_applicant_age_in_years    Gender  Number_of_dependents  \\\n",
       "0                        2.766456  0.670280             -0.428290   \n",
       "1                       -1.191404 -1.491914             -0.428290   \n",
       "2                        1.183312  0.670280              2.334869   \n",
       "3                        0.831502  0.670280              2.334869   \n",
       "4                        1.535122  0.670280              2.334869   \n",
       "\n",
       "   Years_at_current_residence  Has_been_employed_for_at_least  \\\n",
       "0                    1.046987                        1.338078   \n",
       "1                   -0.765977                       -0.317959   \n",
       "2                    0.140505                        0.510060   \n",
       "3                    1.046987                        0.510060   \n",
       "4                    1.046987                       -0.317959   \n",
       "\n",
       "   Has_been_employed_for_at_most  Foreign_worker  Savings_account_balance  \\\n",
       "0                      -1.464049        0.196014                -1.231393   \n",
       "1                       0.608696        0.196014                -0.196609   \n",
       "2                       1.299611        0.196014                -0.196609   \n",
       "3                       1.299611        0.196014                -0.196609   \n",
       "4                       0.608696        0.196014                -0.196609   \n",
       "\n",
       "   Balance_in_existing_bank_account_(lower_limit_of_bucket)  \\\n",
       "0                                          -0.653831          \n",
       "1                                           1.001437          \n",
       "2                                          -0.653831          \n",
       "3                                          -0.653831          \n",
       "4                                          -0.653831          \n",
       "\n",
       "   Balance_in_existing_bank_account_(upper_limit_of_bucket)  ...  \\\n",
       "0                                           0.226218         ...   \n",
       "1                                           1.429505         ...   \n",
       "2                                          -0.977069         ...   \n",
       "3                                           0.226218         ...   \n",
       "4                                           0.226218         ...   \n",
       "\n",
       "   EMP_STATUS_unskilled - resident  \\\n",
       "0                             -0.5   \n",
       "1                             -0.5   \n",
       "2                              2.0   \n",
       "3                             -0.5   \n",
       "4                             -0.5   \n",
       "\n",
       "   P_building society savings agreement/life insurance  P_car or other  \\\n",
       "0                                          -0.549621         -0.704987   \n",
       "1                                          -0.549621         -0.704987   \n",
       "2                                          -0.549621         -0.704987   \n",
       "3                                           1.819435         -0.704987   \n",
       "4                                          -0.549621         -0.704987   \n",
       "\n",
       "     P_none  P_real estate  LOAN_HIST_all loans at this bank paid back duly  \\\n",
       "0 -0.426653       1.595650                                        -0.226991   \n",
       "1 -0.426653       1.595650                                        -0.226991   \n",
       "2 -0.426653       1.595650                                        -0.226991   \n",
       "3 -0.426653      -0.626704                                        -0.226991   \n",
       "4  2.343823      -0.626704                                        -0.226991   \n",
       "\n",
       "   LOAN_HIST_critical/pending loans at other banks  \\\n",
       "0                                         1.553374   \n",
       "1                                        -0.643760   \n",
       "2                                         1.553374   \n",
       "3                                        -0.643760   \n",
       "4                                        -0.643760   \n",
       "\n",
       "   LOAN_HIST_delay in paying off loans in the past  \\\n",
       "0                                         -0.31063   \n",
       "1                                         -0.31063   \n",
       "2                                         -0.31063   \n",
       "3                                         -0.31063   \n",
       "4                                          3.21926   \n",
       "\n",
       "   LOAN_HIST_existing loans paid back duly till now  \\\n",
       "0                                         -1.061913   \n",
       "1                                          0.941697   \n",
       "2                                         -1.061913   \n",
       "3                                          0.941697   \n",
       "4                                         -1.061913   \n",
       "\n",
       "   LOAN_HIST_no loans taken/all loans paid back duly  \n",
       "0                                          -0.204124  \n",
       "1                                          -0.204124  \n",
       "2                                          -0.204124  \n",
       "3                                          -0.204124  \n",
       "4                                          -0.204124  \n",
       "\n",
       "[5 rows x 44 columns]"
      ]
     },
     "execution_count": 185,
     "metadata": {},
     "output_type": "execute_result"
    }
   ],
   "source": [
    "X.head()"
   ]
  },
  {
   "cell_type": "code",
   "execution_count": 186,
   "id": "49d99bdb",
   "metadata": {},
   "outputs": [
    {
     "data": {
      "text/plain": [
       "0      0\n",
       "1      1\n",
       "2      0\n",
       "3      0\n",
       "4      1\n",
       "      ..\n",
       "995    0\n",
       "996    0\n",
       "997    0\n",
       "998    1\n",
       "999    0\n",
       "Name: high_risk_applicant, Length: 1000, dtype: int64"
      ]
     },
     "execution_count": 186,
     "metadata": {},
     "output_type": "execute_result"
    }
   ],
   "source": [
    "y"
   ]
  },
  {
   "cell_type": "markdown",
   "id": "2452d359",
   "metadata": {},
   "source": [
    "# 1.2 Split Data."
   ]
  },
  {
   "cell_type": "code",
   "execution_count": 187,
   "id": "1db45d53",
   "metadata": {},
   "outputs": [],
   "source": [
    "def train_test_split_func(X, y):\n",
    "    # Train-test split\n",
    "#     X_train, X_test, y_train, y_test = train_test_split(X, y, train_size=0.8, random_state=37)\n",
    "    \n",
    "    X_train, X_other, y_train, y_other = train_test_split(X, y, \n",
    "                                                      test_size=0.30, \n",
    "                                                      random_state=5)\n",
    "\n",
    "\n",
    "    X_valid, X_test, y_valid, y_test = train_test_split(X_other, \n",
    "                                                        y_other,\n",
    "                                                  test_size=0.66, \n",
    "                                                  random_state=5)\n",
    "\n",
    "    return X_train, X_test, X_valid, y_train, y_test, y_valid"
   ]
  },
  {
   "cell_type": "code",
   "execution_count": 188,
   "id": "309551be",
   "metadata": {},
   "outputs": [],
   "source": [
    "X_train, X_test, X_valid, y_train, y_test, y_valid = train_test_split_func(X, y)"
   ]
  },
  {
   "cell_type": "code",
   "execution_count": 189,
   "id": "70fd9b2d",
   "metadata": {},
   "outputs": [
    {
     "name": "stdout",
     "output_type": "stream",
     "text": [
      "Train features sample size: 700\n",
      "Train target sample size: 700\n",
      "\n",
      "Validation features sample size: 102\n",
      "Validation target sample size: 102\n",
      "\n",
      "Test features sample size: 198\n",
      "Test target sample size: 198\n",
      "\n",
      "Train features sample size, %: 70 %\n",
      "Valid features sample size, %: 10 %\n",
      "Test features sample size, %: 20 %\n",
      "\n",
      "Train target sample size, %: 70 %\n",
      "Valid target sample size, %: 10 %\n",
      "Test target sample size, %: 20 %\n"
     ]
    }
   ],
   "source": [
    "print('Train features sample size:', X_train.shape[0])\n",
    "print('Train target sample size:', y_train.shape[0])\n",
    "print()\n",
    "print('Validation features sample size:', X_valid.shape[0])\n",
    "print('Validation target sample size:', y_valid.shape[0])\n",
    "print()\n",
    "print('Test features sample size:', X_test.shape[0])\n",
    "print('Test target sample size:', y_test.shape[0])\n",
    "print()\n",
    "print('Train features sample size, %:', round(len(X_train) / len(X) * 100), '%')\n",
    "print('Valid features sample size, %:', round(len(X_valid) / len(X) * 100), '%')\n",
    "print('Test features sample size, %:', round(len(X_test) / len(X) * 100), '%')\n",
    "print()\n",
    "print('Train target sample size, %:', round(len(y_train) / len(y) * 100), '%')\n",
    "print('Valid target sample size, %:', round(len(y_valid) / len(y) * 100), '%')\n",
    "print('Test target sample size, %:', round(len(y_test) / len(y) * 100), '%')"
   ]
  },
  {
   "cell_type": "markdown",
   "id": "cb7ad86f",
   "metadata": {},
   "source": [
    "### ***Conclusion***: We have normalized, augmented and split the initial dataset into train (70%), validation (10%) and test (20%) samples, and thus ready to train the ML model.\n",
    "\n",
    "The subsamples are the following:\n",
    "- X_train 70%\n",
    "- y_train 70%\n",
    "\n",
    "- X_valid 10%\n",
    "- y_valid 10%\n",
    "\n",
    "- X_test 20%\n",
    "- y_test 20%"
   ]
  },
  {
   "cell_type": "markdown",
   "id": "27ee5f2a",
   "metadata": {},
   "source": [
    "## 1.3 Tackling the disbalance"
   ]
  },
  {
   "cell_type": "code",
   "execution_count": 190,
   "id": "67d7fceb",
   "metadata": {},
   "outputs": [],
   "source": [
    "y_train_df = pd.DataFrame(y_train)"
   ]
  },
  {
   "cell_type": "code",
   "execution_count": 191,
   "id": "fc159392",
   "metadata": {},
   "outputs": [
    {
     "data": {
      "image/png": "[encoded data removed]",
      "text/plain": [
       "<Figure size 640x480 with 1 Axes>"
      ]
     },
     "metadata": {},
     "output_type": "display_data"
    }
   ],
   "source": [
    "y_train_df.value_counts().plot(kind='bar', color=['cyan'])\n",
    "\n",
    "plt.title('Disbalanced Target')\n",
    "plt.xlabel('Categories')\n",
    "plt.ylabel('Frequency')\n",
    "plt.show();"
   ]
  },
  {
   "cell_type": "code",
   "execution_count": 192,
   "id": "3d499a51",
   "metadata": {},
   "outputs": [],
   "source": [
    "y_test_df = pd.DataFrame(y_test)"
   ]
  },
  {
   "cell_type": "code",
   "execution_count": 193,
   "id": "1c960e11",
   "metadata": {},
   "outputs": [
    {
     "data": {
      "image/png": "[encoded data removed]",
      "text/plain": [
       "<Figure size 640x480 with 1 Axes>"
      ]
     },
     "metadata": {},
     "output_type": "display_data"
    }
   ],
   "source": [
    "y_test_df.value_counts().plot(kind='bar', color=['green'])\n",
    "\n",
    "plt.title('Disbalanced Target')\n",
    "plt.xlabel('Categories')\n",
    "plt.ylabel('Frequency')\n",
    "plt.show();"
   ]
  },
  {
   "cell_type": "markdown",
   "id": "6a7c6e99",
   "metadata": {},
   "source": [
    "### ***Conclusion***: As long as the test data is quite well balanced, we keep it as is."
   ]
  },
  {
   "cell_type": "markdown",
   "id": "917cb059",
   "metadata": {},
   "source": [
    "# ---------------------------------------------------------------------------------------------------------------"
   ]
  },
  {
   "cell_type": "code",
   "execution_count": 194,
   "id": "4f2b3a81",
   "metadata": {},
   "outputs": [],
   "source": [
    "def evaluate_model(model, X_test, y_test, classification_threshold=0.5):\n",
    "    \n",
    "    y_true = np.array(y_test)\n",
    "    \n",
    "    y_pred = (model.predict_proba(X_test) >= classification_threshold).astype(np.int)\n",
    "    y_pred = list(map(lambda x: x[1], y_pred))\n",
    "\n",
    "    \n",
    "    print(\"Test Accuracy: {:.2f}%\".format(accuracy_score(y_true, y_pred) * 100))\n",
    "    \n",
    "    cm = confusion_matrix(y_true, y_pred)\n",
    "    clr = classification_report(y_true, y_pred, target_names=[\"Not Risky\", \"Risky\"])\n",
    "    \n",
    "    plt.figure(figsize=(8, 8))\n",
    "    sns.heatmap(cm, annot=True, vmin=0, fmt='g', cmap='Blues', cbar=False)\n",
    "    plt.xlabel(\"Predicted\")\n",
    "    plt.ylabel(\"Actual\")\n",
    "    plt.xticks(np.arange(2) + 0.5, [\"Low Risk\", \"High Risk\"])\n",
    "    plt.yticks(np.arange(2) + 0.5, [\"Low Risk\", \"High Risk\"])\n",
    "    plt.title(\"Confusion Matrix\")\n",
    "    plt.show()\n",
    "    \n",
    "    print(\"Classification Report:\\n----------------------\\n\", clr)"
   ]
  },
  {
   "cell_type": "markdown",
   "id": "4e855c39",
   "metadata": {},
   "source": [
    "# 2. Model Building"
   ]
  },
  {
   "cell_type": "markdown",
   "id": "477a702e",
   "metadata": {},
   "source": [
    "# Logistic Regression Model\n",
    "#### penalty{‘l1’, ‘l2’, ‘elasticnet’, None}, default=’l2’\n",
    "  - Specify the norm of the penalty:\n",
    "\n",
    "None: no penalty is added;\n",
    "'l2': add a L2 penalty term and it is the default choice;\n",
    "'l1': add a L1 penalty term;\n",
    "'elasticnet': both L1 and L2 penalty terms are added.\n",
    "\n",
    "#### tol : float, default=1e-4\n",
    "  - Tolerance for stopping criteria.\n",
    "\n",
    "#### C : float, default=1.0\n",
    "  - Inverse of regularization strength; must be a positive float. Like in support vector machines, smaller values specify stronger regularization.\n",
    "\n",
    "#### fit_intercept : bool, default=True\n",
    "  - Specifies if a constant (a.k.a. bias or intercept) should be added to the decision function.\n",
    "\n",
    "#### intercept_scaling : float, default=1\n",
    "  - Useful only when the solver ‘liblinear’ is used and self.fit_intercept is set to True. In this case, x becomes [x, self.intercept_scaling], i.e. a “synthetic” feature with constant value equal to intercept_scaling is appended to the instance vector. The intercept becomes intercept_scaling * synthetic_feature_weight.\n",
    "\n",
    "#### class_weight : dict or ‘balanced’, default=None\n",
    "  - Weights associated with classes in the form {class_label: weight}. If not given, all classes are supposed to have weight one.\n",
    "\n",
    "  - The “balanced” mode uses the values of y to automatically adjust weights inversely proportional to class frequencies in the input data as n_samples / (n_classes * np.bincount(y)).\n",
    "\n",
    "\n",
    "#### random_state : int, RandomState instance, default=None\n",
    "  - Used when solver == ‘sag’, ‘saga’ or ‘liblinear’ to shuffle the data. See Glossary for details.\n",
    "\n",
    "  - solver{‘lbfgs’, ‘liblinear’, ‘newton-cg’, ‘newton-cholesky’, ‘sag’, ‘saga’}, default=’lbfgs’\n",
    "  - Algorithm to use in the optimization problem. Default is ‘lbfgs’. To choose a solver, you might want to consider the following aspects:\n",
    "\n",
    "  - For small datasets, ‘liblinear’ is a good choice, whereas ‘sag’ and ‘saga’ are faster for large ones;\n",
    "\n",
    "  - For multiclass problems, only ‘newton-cg’, ‘sag’, ‘saga’ and ‘lbfgs’ handle multinomial loss;\n",
    "\n",
    "  - ‘newton-cholesky’ is a good choice for n_samples >> n_features, especially with one-hot encoded categorical features with rare categories. Note that it is limited to binary classification and the one-versus-rest reduction for multiclass classification. Be aware that the memory usage of this solver has a quadratic dependency on n_features because it explicitly computes the Hessian matrix.\n",
    " \n",
    "\n",
    "#### max_iter : int, default=100\n",
    "  - Maximum number of iterations taken for the solvers to converge.\n",
    "\n",
    "  - multi_class{‘auto’, ‘ovr’, ‘multinomial’}, default=’auto’\n",
    "  - If the option chosen is ‘ovr’, then a binary problem is fit for each label. For ‘multinomial’ the loss minimised is the multinomial loss fit across the entire probability distribution, even when the data is binary. ‘multinomial’ is unavailable when solver=’liblinear’. ‘auto’ selects ‘ovr’ if the data is binary, or if solver=’liblinear’, and otherwise selects ‘multinomial’.\n",
    "\n",
    "\n",
    "#### verbose : int, default=0\n",
    "  - For the liblinear and lbfgs solvers set verbose to any positive number for verbosity.\n",
    "\n",
    "#### warm_start : bool, default=False\n",
    "  - When set to True, reuse the solution of the previous call to fit as initialization, otherwise, just erase the previous solution. Useless for liblinear solver. See the Glossary.\n",
    "\n",
    "#### n_jobs : int, default=None\n",
    "  - Number of CPU cores used when parallelizing over classes if multi_class=’ovr’\n",
    "\n",
    "#### l1_ratio : float, default=None\n",
    "  - The Elastic-Net mixing parameter, with 0 <= l1_ratio <= 1. Only used if penalty='elasticnet'. Setting l1_ratio=0 is equivalent to using penalty='l2', while setting l1_ratio=1 is equivalent to using penalty='l1'. For 0 < l1_ratio <1, the penalty is a combination of L1 and L2."
   ]
  },
  {
   "cell_type": "code",
   "execution_count": 195,
   "id": "99585542",
   "metadata": {},
   "outputs": [
    {
     "name": "stdout",
     "output_type": "stream",
     "text": [
      "[Parallel(n_jobs=1)]: Using backend SequentialBackend with 1 concurrent workers.\n",
      "[Parallel(n_jobs=1)]: Done   1 out of   1 | elapsed:    0.0s remaining:    0.0s\n",
      "[Parallel(n_jobs=1)]: Done   1 out of   1 | elapsed:    0.0s finished\n"
     ]
    },
    {
     "data": {
      "text/plain": [
       "LogisticRegression(class_weight={0: 1, 1: 1.5}, l1_ratio=0.1,\n",
       "                   multi_class='multinomial', n_jobs=1, random_state=1,\n",
       "                   solver='newton-cg', tol=1, verbose=50)"
      ]
     },
     "execution_count": 195,
     "metadata": {},
     "output_type": "execute_result"
    }
   ],
   "source": [
    "model = LogisticRegression(\n",
    "    class_weight={\n",
    "        0: 1,\n",
    "        1: 1.5\n",
    "    },\n",
    "    verbose = 50,\n",
    "    tol = 1,\n",
    "    l1_ratio = 0.1,\n",
    "    fit_intercept = True,\n",
    "    max_iter = 100,\n",
    "    multi_class = 'multinomial',\n",
    "    n_jobs = 1,\n",
    "    penalty = 'l2',\n",
    "    random_state = 1,\n",
    "    solver = 'newton-cg',\n",
    ")\n",
    "\n",
    "model.fit(X_train, y_train)"
   ]
  },
  {
   "cell_type": "code",
   "execution_count": 196,
   "id": "d295e7d3",
   "metadata": {},
   "outputs": [
    {
     "data": {
      "text/plain": [
       "0.7525252525252525"
      ]
     },
     "execution_count": 196,
     "metadata": {},
     "output_type": "execute_result"
    }
   ],
   "source": [
    "model.score(X_test, y_test)"
   ]
  },
  {
   "cell_type": "markdown",
   "id": "f9d8506f",
   "metadata": {},
   "source": [
    "##  Testing the Logistic Regression Model\n",
    "\n",
    "### 1.1 Making predictions\n",
    "\n",
    "### 1.2 Confusion Matrix\n",
    "\n",
    "#### Let's find the overall accuracy of the model using \n",
    "Accuracy = TP+TN/TP+TN+FP+FN\n",
    "\n",
    "*   cm[0][0] = TP\n",
    "*   cm[1][1] = TN\n",
    "*   cm[0][1] = FP\n",
    "*   cm[1][0] = FN\n",
    "\n",
    "### 1.3 Classification Report\n",
    "\n",
    "Precision - the precision tells us what percentage of the prediction was correct. \n",
    "TP = True positive\n",
    "FP = False positive\n",
    "precision = TP/TP+FP\n",
    "\n",
    "Recall - sensitivity or hit rate tell us the fraction of correctly identified positive prediction.\n",
    "recall = TP/TP+FN\n",
    "\n",
    "F1-score - measures precision and recall at the same time by finding the harmonic mean of the two values.\n",
    "F1 Score = 2*(Recall * Precision) / (Recall + Precision)\n",
    "\n",
    "Accuracy - The accuracy measures the accuracy of all predictions (positive and negative).\n",
    "Accuracy = TP+TN/TP+TN+FP+FN"
   ]
  },
  {
   "cell_type": "code",
   "execution_count": 197,
   "id": "f9487831",
   "metadata": {},
   "outputs": [
    {
     "name": "stdout",
     "output_type": "stream",
     "text": [
      "Test Accuracy: 75.25%\n"
     ]
    },
    {
     "data": {
      "image/png": "[encoded data removed]",
      "text/plain": [
       "<Figure size 800x800 with 1 Axes>"
      ]
     },
     "metadata": {},
     "output_type": "display_data"
    },
    {
     "name": "stdout",
     "output_type": "stream",
     "text": [
      "Classification Report:\n",
      "----------------------\n",
      "               precision    recall  f1-score   support\n",
      "\n",
      "   Not Risky       0.83      0.83      0.83       144\n",
      "       Risky       0.55      0.56      0.55        54\n",
      "\n",
      "    accuracy                           0.75       198\n",
      "   macro avg       0.69      0.69      0.69       198\n",
      "weighted avg       0.75      0.75      0.75       198\n",
      "\n"
     ]
    }
   ],
   "source": [
    "evaluate_model(model, X_test, y_test, classification_threshold=0.5)"
   ]
  },
  {
   "cell_type": "markdown",
   "id": "063461d3",
   "metadata": {},
   "source": [
    "# Random Forest Classifier Model\n",
    "\n",
    "link : https://scikit-learn.org/stable/modules/generated/sklearn.ensemble.RandomForestClassifier.html\n",
    "\n",
    "### Paramerter's\n",
    "\n",
    "n_estimators: int, default=100\n",
    "  - The number of trees in the forest.\n",
    "\n",
    "criterion: {“gini”, “entropy”, “log_loss”}, default=”gini”\n",
    "  - The function to measure the quality of a split. Supported criteria are “gini” for the Gini impurity and “log_loss” and “entropy” both for the Shannon information gain, see Mathematical formulation. Note: This parameter is tree-specific.\n",
    "\n",
    "max_depth : int, default=None\n",
    "  - The maximum depth of the tree. If None, then nodes are expanded until all leaves are pure or until all leaves contain less than min_samples_split samples.\n",
    "\n",
    "min_weight_fraction_leaf : float, default=0.0\n",
    "  - The minimum weighted fraction of the sum total of weights (of all the input samples) required to be at a leaf node. Samples have equal weight when sample_weight is not provided.\n",
    "\n",
    "max_features : {“sqrt”, “log2”, None}, int or float, default=”sqrt”\n",
    "  - The number of features to consider when looking for the best split: If int, then consider max_features features at each split. If float, then max_features is a fraction and max(1, int(max_features * n_features_in_)) features are considered at each split. If “auto”, then max_features=sqrt(n_features). If “sqrt”, then max_features=sqrt(n_features). If “log2”, then max_features=log2(n_features). If None, then max_features=n_features.\n",
    "\n",
    "random_state : int, RandomState instance or None, default=None\n",
    "  - Controls both the randomness of the bootstrapping of the samples used when building trees (if bootstrap=True) and the sampling of the features to consider when looking for the best split at each node (if max_features < n_features). See Glossary for details.\n",
    "\n",
    "warm_start: bool, default=False\n",
    "  - When set to True, reuse the solution of the previous call to fit and add more estimators to the ensemble, otherwise, just fit a whole new forest. See Glossary and Fitting additional weak-learners for details."
   ]
  },
  {
   "cell_type": "code",
   "execution_count": 198,
   "id": "919af4a1",
   "metadata": {},
   "outputs": [
    {
     "name": "stdout",
     "output_type": "stream",
     "text": [
      "\n",
      "ACCURACY OF THE MODEL:  0.7777777777777778\n"
     ]
    }
   ],
   "source": [
    "from sklearn.ensemble import RandomForestClassifier\n",
    "from sklearn import metrics \n",
    "\n",
    "# creating a RF classifier\n",
    "Random_forest_classifier_model = RandomForestClassifier(\n",
    "    n_estimators = 200,\n",
    "    criterion = 'entropy',\n",
    "    max_depth = 10,\n",
    "    min_samples_split = 5,\n",
    "    max_features = 'log2',\n",
    ")  \n",
    "  \n",
    "Random_forest_classifier_model.fit(X_train, y_train)\n",
    "  \n",
    "# performing predictions on the test dataset\n",
    "y_pred = Random_forest_classifier_model.predict(X_test)\n",
    "   \n",
    "print()\n",
    "  \n",
    "# using metrics module for accuracy calculation\n",
    "print(\"ACCURACY OF THE MODEL: \", metrics.accuracy_score(y_test, y_pred))"
   ]
  },
  {
   "cell_type": "markdown",
   "id": "9b950d58",
   "metadata": {},
   "source": [
    "##  Testing the Random Forest Classifier Model"
   ]
  },
  {
   "cell_type": "code",
   "execution_count": 199,
   "id": "2dd9f6f4",
   "metadata": {},
   "outputs": [
    {
     "name": "stdout",
     "output_type": "stream",
     "text": [
      "Test Accuracy: 77.78%\n"
     ]
    },
    {
     "data": {
      "image/png": "[encoded data removed]",
      "text/plain": [
       "<Figure size 800x800 with 1 Axes>"
      ]
     },
     "metadata": {},
     "output_type": "display_data"
    },
    {
     "name": "stdout",
     "output_type": "stream",
     "text": [
      "Classification Report:\n",
      "----------------------\n",
      "               precision    recall  f1-score   support\n",
      "\n",
      "   Not Risky       0.79      0.94      0.86       144\n",
      "       Risky       0.68      0.35      0.46        54\n",
      "\n",
      "    accuracy                           0.78       198\n",
      "   macro avg       0.74      0.64      0.66       198\n",
      "weighted avg       0.76      0.78      0.75       198\n",
      "\n"
     ]
    }
   ],
   "source": [
    "evaluate_model(Random_forest_classifier_model, X_test, y_test, classification_threshold=0.5)"
   ]
  },
  {
   "cell_type": "markdown",
   "id": "ef9492e9",
   "metadata": {},
   "source": [
    "# --------------------------------------------------------------------------------------------------------------"
   ]
  },
  {
   "cell_type": "markdown",
   "id": "7a06ac85",
   "metadata": {},
   "source": [
    "# Support Vector Machine Model \n",
    "\n",
    "link : - https://scikit-learn.org/stable/modules/generated/sklearn.svm.SVC.html\n",
    "\n",
    "### Parameter\n",
    "C : float, default=1.0\n",
    "  - Regularization parameter. The strength of the regularization is inversely proportional to C. Must be strictly positive. The penalty is a squared l2 penalty.\n",
    "\n",
    "kernel : {‘linear’, ‘poly’, ‘rbf’, ‘sigmoid’, ‘precomputed’} or callable, default=’rbf’\n",
    "  - Specifies the kernel type to be used in the algorithm. If none is given, ‘rbf’ will be used. If a callable is given it is used to pre-compute the kernel matrix from data matrices; that matrix should be an array of shape (n_samples, n_samples).\n",
    "\n",
    "degree : int, default=3\n",
    "  - Degree of the polynomial kernel function (‘poly’). Must be non-negative. Ignored by all other kernels.\n",
    "\n",
    "gamma : {‘scale’, ‘auto’} or float, default=’scale’\n",
    "  - Kernel coefficient for ‘rbf’, ‘poly’ and ‘sigmoid’.if gamma='scale' (default) is passed then it uses 1 / (n_features * X.var()) as value of gamma, if ‘auto’, uses 1 / n_features if float, must be non-negative.\n",
    "\n",
    "coef : 0 ,float, default=0.0\n",
    "  - Independent term in kernel function. It is only significant in ‘poly’ and ‘sigmoid’.\n",
    "\n",
    "probability : bool, default=False\n",
    "  - Whether to enable probability estimates. This must be enabled prior to calling fit, will slow down that method as it internally uses 5-fold cross-validation, and predict_proba may be inconsistent with predict. Read more in the User Guide."
   ]
  },
  {
   "cell_type": "code",
   "execution_count": 200,
   "id": "34dca93a",
   "metadata": {},
   "outputs": [],
   "source": [
    "from sklearn import svm"
   ]
  },
  {
   "cell_type": "code",
   "execution_count": 207,
   "id": "541b79bf",
   "metadata": {},
   "outputs": [],
   "source": [
    "svm_model = svm.SVC(\n",
    "    kernel='linear', \n",
    "    C=1, \n",
    "    gamma= 'auto',\n",
    "    probability = True\n",
    ")"
   ]
  },
  {
   "cell_type": "code",
   "execution_count": 208,
   "id": "e0828888",
   "metadata": {},
   "outputs": [
    {
     "data": {
      "text/plain": [
       "SVC(C=1, gamma='auto', kernel='linear', probability=True)"
      ]
     },
     "execution_count": 208,
     "metadata": {},
     "output_type": "execute_result"
    }
   ],
   "source": [
    "svm_model.fit(X_train, y_train)"
   ]
  },
  {
   "cell_type": "markdown",
   "id": "82fb36d1",
   "metadata": {},
   "source": [
    "# Testing the Support-Vector-Machine Model"
   ]
  },
  {
   "cell_type": "code",
   "execution_count": 209,
   "id": "bd8c10f1",
   "metadata": {},
   "outputs": [
    {
     "name": "stdout",
     "output_type": "stream",
     "text": [
      "Test Accuracy: 77.27%\n"
     ]
    },
    {
     "data": {
      "image/png": "[encoded data removed]",
      "text/plain": [
       "<Figure size 800x800 with 1 Axes>"
      ]
     },
     "metadata": {},
     "output_type": "display_data"
    },
    {
     "name": "stdout",
     "output_type": "stream",
     "text": [
      "Classification Report:\n",
      "----------------------\n",
      "               precision    recall  f1-score   support\n",
      "\n",
      "   Not Risky       0.79      0.93      0.86       144\n",
      "       Risky       0.66      0.35      0.46        54\n",
      "\n",
      "    accuracy                           0.77       198\n",
      "   macro avg       0.72      0.64      0.66       198\n",
      "weighted avg       0.76      0.77      0.75       198\n",
      "\n"
     ]
    }
   ],
   "source": [
    "evaluate_model(svm_model, X_test, y_test, classification_threshold=0.5)"
   ]
  },
  {
   "cell_type": "markdown",
   "id": "393e5cc5",
   "metadata": {},
   "source": [
    "# ---------------------------------------------------------------------------------------------------------------"
   ]
  },
  {
   "cell_type": "markdown",
   "id": "4cdbebb1",
   "metadata": {},
   "source": [
    "# Decision tree model\n",
    "\n",
    "### Parameters:\n",
    "criterion : {“gini”, “entropy”, “log_loss”}, default=”gini”\n",
    "  - The function to measure the quality of a split. Supported criteria are “gini” for the Gini impurity and “log_loss” and “entropy” both for the Shannon information gain, see Mathematical formulation.\n",
    "\n",
    "splitter : {“best”, “random”}, default=”best”\n",
    "  - The strategy used to choose the split at each node. Supported strategies are “best” to choose the best split and “random” to choose the best random split.\n",
    "\n",
    "max_depth : int, default=None\n",
    "  - The maximum depth of the tree. If None, then nodes are expanded until all leaves are pure or until all leaves contain less than min_samples_split samples.\n",
    "  \n",
    "min_samples_leaf : int or float, default=1\n",
    "  - The minimum number of samples required to be at a leaf node. A split point at any depth will only be considered if it leaves at least min_samples_leaf training samples in each of the left and right branches. This may have the effect of smoothing the model, especially in regression. \n",
    "  - If int, then consider min_samples_leaf as the minimum number. \n",
    "  - If float, then min_samples_leaf is a fraction and ceil(min_samples_leaf * n_samples) are the minimum number of samples for each node."
   ]
  },
  {
   "cell_type": "code",
   "execution_count": 214,
   "id": "e01e4c1c",
   "metadata": {},
   "outputs": [],
   "source": [
    "from sklearn.tree import DecisionTreeClassifier"
   ]
  },
  {
   "cell_type": "code",
   "execution_count": 215,
   "id": "58e5c0a7",
   "metadata": {},
   "outputs": [],
   "source": [
    "def train_using_gini(X_train, X_test, y_train):\n",
    "  \n",
    "    # Creating the classifier object\n",
    "    clf_gini = DecisionTreeClassifier(criterion = \"gini\",\n",
    "            random_state = 100,max_depth=3, min_samples_leaf=5)\n",
    "  \n",
    "    # Performing training\n",
    "    clf_gini.fit(X_train, y_train)\n",
    "    return clf_gini"
   ]
  },
  {
   "cell_type": "code",
   "execution_count": 216,
   "id": "39ff05fb",
   "metadata": {},
   "outputs": [],
   "source": [
    "def tarin_using_entropy(X_train, X_test, y_train):\n",
    "  \n",
    "    # Decision tree with entropy\n",
    "    clf_entropy = DecisionTreeClassifier(\n",
    "            criterion = \"entropy\", random_state = 100,\n",
    "            max_depth = 3, min_samples_leaf = 5)\n",
    "  \n",
    "    # Performing training\n",
    "    clf_entropy.fit(X_train, y_train)\n",
    "    return clf_entropy"
   ]
  },
  {
   "cell_type": "code",
   "execution_count": 217,
   "id": "0c3c55d2",
   "metadata": {},
   "outputs": [],
   "source": [
    "clf_gini = train_using_gini(X_train, X_test, y_train)\n",
    "clf_entropy = tarin_using_entropy(X_train, X_test, y_train)"
   ]
  },
  {
   "cell_type": "markdown",
   "id": "d617df5d",
   "metadata": {},
   "source": [
    "# Testing the Decision Tree Model"
   ]
  },
  {
   "cell_type": "code",
   "execution_count": 218,
   "id": "33c02b8b",
   "metadata": {},
   "outputs": [
    {
     "name": "stdout",
     "output_type": "stream",
     "text": [
      "Test Accuracy: 70.71%\n"
     ]
    },
    {
     "data": {
      "image/png": "[encoded data removed]",
      "text/plain": [
       "<Figure size 800x800 with 1 Axes>"
      ]
     },
     "metadata": {},
     "output_type": "display_data"
    },
    {
     "name": "stdout",
     "output_type": "stream",
     "text": [
      "Classification Report:\n",
      "----------------------\n",
      "               precision    recall  f1-score   support\n",
      "\n",
      "   Not Risky       0.78      0.83      0.80       144\n",
      "       Risky       0.46      0.39      0.42        54\n",
      "\n",
      "    accuracy                           0.71       198\n",
      "   macro avg       0.62      0.61      0.61       198\n",
      "weighted avg       0.69      0.71      0.70       198\n",
      "\n"
     ]
    }
   ],
   "source": [
    "evaluate_model(clf_gini, X_test, y_test, classification_threshold=0.5)"
   ]
  },
  {
   "cell_type": "code",
   "execution_count": 219,
   "id": "15792cfa",
   "metadata": {},
   "outputs": [
    {
     "name": "stdout",
     "output_type": "stream",
     "text": [
      "Test Accuracy: 73.23%\n"
     ]
    },
    {
     "data": {
      "image/png": "[encoded data removed]",
      "text/plain": [
       "<Figure size 800x800 with 1 Axes>"
      ]
     },
     "metadata": {},
     "output_type": "display_data"
    },
    {
     "name": "stdout",
     "output_type": "stream",
     "text": [
      "Classification Report:\n",
      "----------------------\n",
      "               precision    recall  f1-score   support\n",
      "\n",
      "   Not Risky       0.75      0.94      0.84       144\n",
      "       Risky       0.53      0.17      0.25        54\n",
      "\n",
      "    accuracy                           0.73       198\n",
      "   macro avg       0.64      0.56      0.55       198\n",
      "weighted avg       0.69      0.73      0.68       198\n",
      "\n"
     ]
    }
   ],
   "source": [
    "evaluate_model(clf_entropy, X_test, y_test, classification_threshold=0.5)"
   ]
  },
  {
   "cell_type": "code",
   "execution_count": null,
   "id": "ddcf1df9",
   "metadata": {},
   "outputs": [],
   "source": []
  }
 ],
 "metadata": {
  "kernelspec": {
   "display_name": "Python 3 (ipykernel)",
   "language": "python",
   "name": "python3"
  },
  "language_info": {
   "codemirror_mode": {
    "name": "ipython",
    "version": 3
   },
   "file_extension": ".py",
   "mimetype": "text/x-python",
   "name": "python",
   "nbconvert_exporter": "python",
   "pygments_lexer": "ipython3",
   "version": "3.9.13"
  }
 },
 "nbformat": 4,
 "nbformat_minor": 5
}
